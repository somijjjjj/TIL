{
 "cells": [
  {
   "cell_type": "code",
   "execution_count": 25,
   "id": "debd95c5",
   "metadata": {},
   "outputs": [],
   "source": [
    "import pandas as pd\n",
    "import numpy as np"
   ]
  },
  {
   "cell_type": "markdown",
   "id": "1383671e",
   "metadata": {},
   "source": [
    "# 데이터 불러오기"
   ]
  },
  {
   "cell_type": "code",
   "execution_count": 3,
   "id": "4f2e1e8e",
   "metadata": {},
   "outputs": [
    {
     "data": {
      "text/html": [
       "<div>\n",
       "<style scoped>\n",
       "    .dataframe tbody tr th:only-of-type {\n",
       "        vertical-align: middle;\n",
       "    }\n",
       "\n",
       "    .dataframe tbody tr th {\n",
       "        vertical-align: top;\n",
       "    }\n",
       "\n",
       "    .dataframe thead th {\n",
       "        text-align: right;\n",
       "    }\n",
       "</style>\n",
       "<table border=\"1\" class=\"dataframe\">\n",
       "  <thead>\n",
       "    <tr style=\"text-align: right;\">\n",
       "      <th></th>\n",
       "      <th>City / Urban area</th>\n",
       "      <th>Country</th>\n",
       "      <th>Population</th>\n",
       "      <th>Land area (in sqKm)</th>\n",
       "    </tr>\n",
       "  </thead>\n",
       "  <tbody>\n",
       "    <tr>\n",
       "      <th>0</th>\n",
       "      <td>Buenos Aires</td>\n",
       "      <td>Argentina</td>\n",
       "      <td>11200000</td>\n",
       "      <td>2266</td>\n",
       "    </tr>\n",
       "    <tr>\n",
       "      <th>1</th>\n",
       "      <td>Melbourne</td>\n",
       "      <td>Australia</td>\n",
       "      <td>3162000</td>\n",
       "      <td>2080</td>\n",
       "    </tr>\n",
       "    <tr>\n",
       "      <th>2</th>\n",
       "      <td>Sydney</td>\n",
       "      <td>Australia</td>\n",
       "      <td>3502000</td>\n",
       "      <td>1687</td>\n",
       "    </tr>\n",
       "    <tr>\n",
       "      <th>3</th>\n",
       "      <td>Brisbane</td>\n",
       "      <td>Australia</td>\n",
       "      <td>1508000</td>\n",
       "      <td>1603</td>\n",
       "    </tr>\n",
       "    <tr>\n",
       "      <th>4</th>\n",
       "      <td>Perth</td>\n",
       "      <td>Australia</td>\n",
       "      <td>1177000</td>\n",
       "      <td>964</td>\n",
       "    </tr>\n",
       "    <tr>\n",
       "      <th>...</th>\n",
       "      <td>...</td>\n",
       "      <td>...</td>\n",
       "      <td>...</td>\n",
       "      <td>...</td>\n",
       "    </tr>\n",
       "    <tr>\n",
       "      <th>245</th>\n",
       "      <td>Canton</td>\n",
       "      <td>USA</td>\n",
       "      <td>267000</td>\n",
       "      <td>372</td>\n",
       "    </tr>\n",
       "    <tr>\n",
       "      <th>246</th>\n",
       "      <td>Spokane</td>\n",
       "      <td>USA</td>\n",
       "      <td>335000</td>\n",
       "      <td>371</td>\n",
       "    </tr>\n",
       "    <tr>\n",
       "      <th>247</th>\n",
       "      <td>Tashkent</td>\n",
       "      <td>Uzbekistan</td>\n",
       "      <td>2200000</td>\n",
       "      <td>531</td>\n",
       "    </tr>\n",
       "    <tr>\n",
       "      <th>248</th>\n",
       "      <td>Ho Chi Minh City</td>\n",
       "      <td>Vietnam</td>\n",
       "      <td>4900000</td>\n",
       "      <td>518</td>\n",
       "    </tr>\n",
       "    <tr>\n",
       "      <th>249</th>\n",
       "      <td>Harare</td>\n",
       "      <td>Zimbabwe</td>\n",
       "      <td>1750000</td>\n",
       "      <td>712</td>\n",
       "    </tr>\n",
       "  </tbody>\n",
       "</table>\n",
       "<p>249 rows × 4 columns</p>\n",
       "</div>"
      ],
      "text/plain": [
       "    City / Urban area     Country  Population  Land area (in sqKm)\n",
       "0        Buenos Aires   Argentina    11200000                 2266\n",
       "1           Melbourne   Australia     3162000                 2080\n",
       "2              Sydney   Australia     3502000                 1687\n",
       "3            Brisbane   Australia     1508000                 1603\n",
       "4               Perth   Australia     1177000                  964\n",
       "..                ...         ...         ...                  ...\n",
       "245            Canton         USA      267000                  372\n",
       "246           Spokane         USA      335000                  371\n",
       "247          Tashkent  Uzbekistan     2200000                  531\n",
       "248  Ho Chi Minh City     Vietnam     4900000                  518\n",
       "249            Harare    Zimbabwe     1750000                  712\n",
       "\n",
       "[249 rows x 4 columns]"
      ]
     },
     "execution_count": 3,
     "metadata": {},
     "output_type": "execute_result"
    }
   ],
   "source": [
    "df = pd.read_csv('data/world_cities.csv', index_col=0)\n",
    "df"
   ]
  },
  {
   "cell_type": "markdown",
   "id": "49ef6a9c",
   "metadata": {},
   "source": [
    "# 데이터 확인"
   ]
  },
  {
   "cell_type": "code",
   "execution_count": 4,
   "id": "35cbe10b",
   "metadata": {},
   "outputs": [
    {
     "name": "stdout",
     "output_type": "stream",
     "text": [
      "<class 'pandas.core.frame.DataFrame'>\n",
      "Int64Index: 249 entries, 0 to 249\n",
      "Data columns (total 4 columns):\n",
      " #   Column               Non-Null Count  Dtype \n",
      "---  ------               --------------  ----- \n",
      " 0   City / Urban area    249 non-null    object\n",
      " 1   Country              249 non-null    object\n",
      " 2   Population           249 non-null    int64 \n",
      " 3   Land area (in sqKm)  249 non-null    int64 \n",
      "dtypes: int64(2), object(2)\n",
      "memory usage: 9.7+ KB\n"
     ]
    }
   ],
   "source": [
    "df.info()\n",
    "df.describe()"
   ]
  },
  {
   "cell_type": "markdown",
   "id": "ccf5cc12",
   "metadata": {},
   "source": [
    "# 1. 총 몇 개의 도시와 몇 개의 나라가 있는가"
   ]
  },
  {
   "cell_type": "markdown",
   "id": "53dc3ca8",
   "metadata": {},
   "source": [
    "## 도시"
   ]
  },
  {
   "cell_type": "code",
   "execution_count": 11,
   "id": "6754a4f2",
   "metadata": {},
   "outputs": [
    {
     "data": {
      "text/plain": [
       "count              249\n",
       "unique             249\n",
       "top       Buenos Aires\n",
       "freq                 1\n",
       "Name: City / Urban area, dtype: object"
      ]
     },
     "execution_count": 11,
     "metadata": {},
     "output_type": "execute_result"
    }
   ],
   "source": [
    "df.iloc[:,0].describe()"
   ]
  },
  {
   "cell_type": "markdown",
   "id": "14c2a0c7",
   "metadata": {},
   "source": [
    "## 나라"
   ]
  },
  {
   "cell_type": "code",
   "execution_count": 12,
   "id": "1dc37231",
   "metadata": {},
   "outputs": [
    {
     "data": {
      "text/plain": [
       "count     249\n",
       "unique     61\n",
       "top       USA\n",
       "freq      105\n",
       "Name: Country, dtype: object"
      ]
     },
     "execution_count": 12,
     "metadata": {},
     "output_type": "execute_result"
    }
   ],
   "source": [
    "df.iloc[:,1].describe()"
   ]
  },
  {
   "cell_type": "markdown",
   "id": "69366421",
   "metadata": {},
   "source": [
    "# 2. 인구밀도가 10000이 넘는 도시는 총 몇 개인가"
   ]
  },
  {
   "cell_type": "markdown",
   "id": "b181a4f8",
   "metadata": {},
   "source": [
    "### 인구밀도 = 인구 수 / 땅의 면적 (in sqKm)"
   ]
  },
  {
   "cell_type": "code",
   "execution_count": 18,
   "id": "4dee77c8",
   "metadata": {},
   "outputs": [
    {
     "data": {
      "text/plain": [
       "(19, 4)"
      ]
     },
     "execution_count": 18,
     "metadata": {},
     "output_type": "execute_result"
    }
   ],
   "source": [
    "df[df.iloc[:,2] / df.iloc[:,3] > 10000].shape"
   ]
  },
  {
   "cell_type": "markdown",
   "id": "e9ab0e91",
   "metadata": {},
   "source": [
    "# 3. 인구 밀도가 가장 높은 도시를 찾아보자"
   ]
  },
  {
   "cell_type": "markdown",
   "id": "a9094af3",
   "metadata": {},
   "source": [
    "## 새로운 컬럼 (인구밀도) 생성"
   ]
  },
  {
   "cell_type": "code",
   "execution_count": 22,
   "id": "0eeda47a",
   "metadata": {},
   "outputs": [
    {
     "data": {
      "text/html": [
       "<div>\n",
       "<style scoped>\n",
       "    .dataframe tbody tr th:only-of-type {\n",
       "        vertical-align: middle;\n",
       "    }\n",
       "\n",
       "    .dataframe tbody tr th {\n",
       "        vertical-align: top;\n",
       "    }\n",
       "\n",
       "    .dataframe thead th {\n",
       "        text-align: right;\n",
       "    }\n",
       "</style>\n",
       "<table border=\"1\" class=\"dataframe\">\n",
       "  <thead>\n",
       "    <tr style=\"text-align: right;\">\n",
       "      <th></th>\n",
       "      <th>City / Urban area</th>\n",
       "      <th>Country</th>\n",
       "      <th>Population</th>\n",
       "      <th>Land area (in sqKm)</th>\n",
       "      <th>Density</th>\n",
       "    </tr>\n",
       "  </thead>\n",
       "  <tbody>\n",
       "    <tr>\n",
       "      <th>0</th>\n",
       "      <td>Buenos Aires</td>\n",
       "      <td>Argentina</td>\n",
       "      <td>11200000</td>\n",
       "      <td>2266</td>\n",
       "      <td>4942.630185</td>\n",
       "    </tr>\n",
       "    <tr>\n",
       "      <th>1</th>\n",
       "      <td>Melbourne</td>\n",
       "      <td>Australia</td>\n",
       "      <td>3162000</td>\n",
       "      <td>2080</td>\n",
       "      <td>1520.192308</td>\n",
       "    </tr>\n",
       "    <tr>\n",
       "      <th>2</th>\n",
       "      <td>Sydney</td>\n",
       "      <td>Australia</td>\n",
       "      <td>3502000</td>\n",
       "      <td>1687</td>\n",
       "      <td>2075.874333</td>\n",
       "    </tr>\n",
       "    <tr>\n",
       "      <th>3</th>\n",
       "      <td>Brisbane</td>\n",
       "      <td>Australia</td>\n",
       "      <td>1508000</td>\n",
       "      <td>1603</td>\n",
       "      <td>940.736120</td>\n",
       "    </tr>\n",
       "    <tr>\n",
       "      <th>4</th>\n",
       "      <td>Perth</td>\n",
       "      <td>Australia</td>\n",
       "      <td>1177000</td>\n",
       "      <td>964</td>\n",
       "      <td>1220.954357</td>\n",
       "    </tr>\n",
       "    <tr>\n",
       "      <th>...</th>\n",
       "      <td>...</td>\n",
       "      <td>...</td>\n",
       "      <td>...</td>\n",
       "      <td>...</td>\n",
       "      <td>...</td>\n",
       "    </tr>\n",
       "    <tr>\n",
       "      <th>245</th>\n",
       "      <td>Canton</td>\n",
       "      <td>USA</td>\n",
       "      <td>267000</td>\n",
       "      <td>372</td>\n",
       "      <td>717.741935</td>\n",
       "    </tr>\n",
       "    <tr>\n",
       "      <th>246</th>\n",
       "      <td>Spokane</td>\n",
       "      <td>USA</td>\n",
       "      <td>335000</td>\n",
       "      <td>371</td>\n",
       "      <td>902.964960</td>\n",
       "    </tr>\n",
       "    <tr>\n",
       "      <th>247</th>\n",
       "      <td>Tashkent</td>\n",
       "      <td>Uzbekistan</td>\n",
       "      <td>2200000</td>\n",
       "      <td>531</td>\n",
       "      <td>4143.126177</td>\n",
       "    </tr>\n",
       "    <tr>\n",
       "      <th>248</th>\n",
       "      <td>Ho Chi Minh City</td>\n",
       "      <td>Vietnam</td>\n",
       "      <td>4900000</td>\n",
       "      <td>518</td>\n",
       "      <td>9459.459459</td>\n",
       "    </tr>\n",
       "    <tr>\n",
       "      <th>249</th>\n",
       "      <td>Harare</td>\n",
       "      <td>Zimbabwe</td>\n",
       "      <td>1750000</td>\n",
       "      <td>712</td>\n",
       "      <td>2457.865169</td>\n",
       "    </tr>\n",
       "  </tbody>\n",
       "</table>\n",
       "<p>249 rows × 5 columns</p>\n",
       "</div>"
      ],
      "text/plain": [
       "    City / Urban area     Country  Population  Land area (in sqKm)  \\\n",
       "0        Buenos Aires   Argentina    11200000                 2266   \n",
       "1           Melbourne   Australia     3162000                 2080   \n",
       "2              Sydney   Australia     3502000                 1687   \n",
       "3            Brisbane   Australia     1508000                 1603   \n",
       "4               Perth   Australia     1177000                  964   \n",
       "..                ...         ...         ...                  ...   \n",
       "245            Canton         USA      267000                  372   \n",
       "246           Spokane         USA      335000                  371   \n",
       "247          Tashkent  Uzbekistan     2200000                  531   \n",
       "248  Ho Chi Minh City     Vietnam     4900000                  518   \n",
       "249            Harare    Zimbabwe     1750000                  712   \n",
       "\n",
       "         Density  \n",
       "0    4942.630185  \n",
       "1    1520.192308  \n",
       "2    2075.874333  \n",
       "3     940.736120  \n",
       "4    1220.954357  \n",
       "..           ...  \n",
       "245   717.741935  \n",
       "246   902.964960  \n",
       "247  4143.126177  \n",
       "248  9459.459459  \n",
       "249  2457.865169  \n",
       "\n",
       "[249 rows x 5 columns]"
      ]
     },
     "execution_count": 22,
     "metadata": {},
     "output_type": "execute_result"
    }
   ],
   "source": [
    "df['Density'] = df.iloc[:,2] / df.iloc[:,3]\n",
    "df"
   ]
  },
  {
   "cell_type": "markdown",
   "id": "55c8522b",
   "metadata": {},
   "source": [
    "## 인구밀도 컬럼 기준 내림차순으로 데이터 정렬"
   ]
  },
  {
   "cell_type": "code",
   "execution_count": 24,
   "id": "cddaff89",
   "metadata": {},
   "outputs": [
    {
     "data": {
      "text/html": [
       "<div>\n",
       "<style scoped>\n",
       "    .dataframe tbody tr th:only-of-type {\n",
       "        vertical-align: middle;\n",
       "    }\n",
       "\n",
       "    .dataframe tbody tr th {\n",
       "        vertical-align: top;\n",
       "    }\n",
       "\n",
       "    .dataframe thead th {\n",
       "        text-align: right;\n",
       "    }\n",
       "</style>\n",
       "<table border=\"1\" class=\"dataframe\">\n",
       "  <thead>\n",
       "    <tr style=\"text-align: right;\">\n",
       "      <th></th>\n",
       "      <th>City / Urban area</th>\n",
       "      <th>Country</th>\n",
       "      <th>Population</th>\n",
       "      <th>Land area (in sqKm)</th>\n",
       "      <th>Density</th>\n",
       "    </tr>\n",
       "  </thead>\n",
       "  <tbody>\n",
       "    <tr>\n",
       "      <th>75</th>\n",
       "      <td>Mumbai</td>\n",
       "      <td>India</td>\n",
       "      <td>14350000</td>\n",
       "      <td>484</td>\n",
       "      <td>29648.760331</td>\n",
       "    </tr>\n",
       "    <tr>\n",
       "      <th>74</th>\n",
       "      <td>Kolkata</td>\n",
       "      <td>India</td>\n",
       "      <td>12700000</td>\n",
       "      <td>531</td>\n",
       "      <td>23917.137476</td>\n",
       "    </tr>\n",
       "    <tr>\n",
       "      <th>101</th>\n",
       "      <td>Karachi</td>\n",
       "      <td>Pakistan</td>\n",
       "      <td>9800000</td>\n",
       "      <td>518</td>\n",
       "      <td>18918.918919</td>\n",
       "    </tr>\n",
       "    <tr>\n",
       "      <th>99</th>\n",
       "      <td>Lagos</td>\n",
       "      <td>Nigeria</td>\n",
       "      <td>13400000</td>\n",
       "      <td>738</td>\n",
       "      <td>18157.181572</td>\n",
       "    </tr>\n",
       "    <tr>\n",
       "      <th>34</th>\n",
       "      <td>Shenzhen</td>\n",
       "      <td>China</td>\n",
       "      <td>8000000</td>\n",
       "      <td>466</td>\n",
       "      <td>17167.381974</td>\n",
       "    </tr>\n",
       "    <tr>\n",
       "      <th>...</th>\n",
       "      <td>...</td>\n",
       "      <td>...</td>\n",
       "      <td>...</td>\n",
       "      <td>...</td>\n",
       "      <td>...</td>\n",
       "    </tr>\n",
       "    <tr>\n",
       "      <th>195</th>\n",
       "      <td>Chattanooga</td>\n",
       "      <td>USA</td>\n",
       "      <td>344000</td>\n",
       "      <td>751</td>\n",
       "      <td>458.055925</td>\n",
       "    </tr>\n",
       "    <tr>\n",
       "      <th>224</th>\n",
       "      <td>Asheville</td>\n",
       "      <td>USA</td>\n",
       "      <td>222000</td>\n",
       "      <td>536</td>\n",
       "      <td>414.179104</td>\n",
       "    </tr>\n",
       "    <tr>\n",
       "      <th>57</th>\n",
       "      <td>Pau</td>\n",
       "      <td>France</td>\n",
       "      <td>181000</td>\n",
       "      <td>450</td>\n",
       "      <td>402.222222</td>\n",
       "    </tr>\n",
       "    <tr>\n",
       "      <th>221</th>\n",
       "      <td>Hickory</td>\n",
       "      <td>USA</td>\n",
       "      <td>188000</td>\n",
       "      <td>546</td>\n",
       "      <td>344.322344</td>\n",
       "    </tr>\n",
       "    <tr>\n",
       "      <th>197</th>\n",
       "      <td>Barnstable Town</td>\n",
       "      <td>USA</td>\n",
       "      <td>244000</td>\n",
       "      <td>741</td>\n",
       "      <td>329.284750</td>\n",
       "    </tr>\n",
       "  </tbody>\n",
       "</table>\n",
       "<p>249 rows × 5 columns</p>\n",
       "</div>"
      ],
      "text/plain": [
       "    City / Urban area   Country  Population  Land area (in sqKm)       Density\n",
       "75             Mumbai     India    14350000                  484  29648.760331\n",
       "74            Kolkata     India    12700000                  531  23917.137476\n",
       "101           Karachi  Pakistan     9800000                  518  18918.918919\n",
       "99              Lagos   Nigeria    13400000                  738  18157.181572\n",
       "34           Shenzhen     China     8000000                  466  17167.381974\n",
       "..                ...       ...         ...                  ...           ...\n",
       "195       Chattanooga       USA      344000                  751    458.055925\n",
       "224         Asheville       USA      222000                  536    414.179104\n",
       "57                Pau    France      181000                  450    402.222222\n",
       "221           Hickory       USA      188000                  546    344.322344\n",
       "197   Barnstable Town       USA      244000                  741    329.284750\n",
       "\n",
       "[249 rows x 5 columns]"
      ]
     },
     "execution_count": 24,
     "metadata": {},
     "output_type": "execute_result"
    }
   ],
   "source": [
    "df.sort_values(by=\"Density\", ascending=False)"
   ]
  },
  {
   "cell_type": "markdown",
   "id": "c0c97e8f",
   "metadata": {},
   "source": [
    "# 4개의 도시가 나온 나라 찾기"
   ]
  },
  {
   "cell_type": "code",
   "execution_count": 40,
   "id": "4ba4dff1",
   "metadata": {},
   "outputs": [
    {
     "data": {
      "text/plain": [
       "USA             105\n",
       "France           15\n",
       "Brazil           10\n",
       "Canada            9\n",
       "Germany           8\n",
       "Australia         6\n",
       "China             6\n",
       "India             6\n",
       "South Africa      6\n",
       "Japan             5\n",
       "UK                5\n",
       "Italy             4\n",
       "Russia            3\n",
       "Mexico            3\n",
       "UAE               2\n",
       "Name: Country, dtype: int64"
      ]
     },
     "execution_count": 40,
     "metadata": {},
     "output_type": "execute_result"
    }
   ],
   "source": [
    "df[\"Country\"].value_counts().sort_values(ascending=False).head(15)"
   ]
  },
  {
   "cell_type": "code",
   "execution_count": 41,
   "id": "be162310",
   "metadata": {},
   "outputs": [
    {
     "data": {
      "text/plain": [
       "Italy    4\n",
       "Name: Country, dtype: int64"
      ]
     },
     "execution_count": 41,
     "metadata": {},
     "output_type": "execute_result"
    }
   ],
   "source": [
    "countries = df[\"Country\"].value_counts()\n",
    "countries[countries == 4]"
   ]
  },
  {
   "cell_type": "code",
   "execution_count": null,
   "id": "64c7dc85",
   "metadata": {},
   "outputs": [],
   "source": []
  },
  {
   "cell_type": "code",
   "execution_count": null,
   "id": "eba157a9",
   "metadata": {},
   "outputs": [],
   "source": []
  }
 ],
 "metadata": {
  "kernelspec": {
   "display_name": "Python 3 (ipykernel)",
   "language": "python",
   "name": "python3"
  },
  "language_info": {
   "codemirror_mode": {
    "name": "ipython",
    "version": 3
   },
   "file_extension": ".py",
   "mimetype": "text/x-python",
   "name": "python",
   "nbconvert_exporter": "python",
   "pygments_lexer": "ipython3",
   "version": "3.9.7"
  }
 },
 "nbformat": 4,
 "nbformat_minor": 5
}
